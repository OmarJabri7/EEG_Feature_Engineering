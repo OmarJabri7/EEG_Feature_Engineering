{
 "cells": [
  {
   "cell_type": "code",
   "execution_count": 2,
   "metadata": {},
   "outputs": [],
   "source": [
    "import csv\n",
    "import numpy as np\n",
    "import pandas as pd\n",
    "import matplotlib.pyplot as plt\n",
    "from IPython.display import display\n",
    "import warnings\n",
    "warnings.filterwarnings('ignore')\n",
    "# pd.set_option(\"display.max_rows\", None, \"display.max_columns\", None)"
   ]
  },
  {
   "cell_type": "code",
   "execution_count": 3,
   "metadata": {},
   "outputs": [],
   "source": [
    "# load data\n",
    "# rows in X are subject major order, i.e. rows 0-9 are all samples from subject 0, rows 10-19 all samples from subject 1, etc.\n",
    "# columns in X are in feature_type major order, i.e. columns 0-47 are alpha band power, eyes closed, electrodes 0-48\n",
    "# feature identifiers for all columns in X are stored in feature_names.csv\n",
    "X = np.loadtxt('data.csv', delimiter=',') \n",
    "y = np.loadtxt('labels.csv', delimiter=',')\n",
    "with open('feature_names.csv') as f:\n",
    "    csvreader = csv.reader(f, delimiter=',')\n",
    "    feature_names = [row for row in csvreader][0]"
   ]
  },
  {
   "cell_type": "code",
   "execution_count": 4,
   "metadata": {},
   "outputs": [
    {
     "data": {
      "text/html": [
       "<div>\n",
       "<style scoped>\n",
       "    .dataframe tbody tr th:only-of-type {\n",
       "        vertical-align: middle;\n",
       "    }\n",
       "\n",
       "    .dataframe tbody tr th {\n",
       "        vertical-align: top;\n",
       "    }\n",
       "\n",
       "    .dataframe thead th {\n",
       "        text-align: right;\n",
       "    }\n",
       "</style>\n",
       "<table border=\"1\" class=\"dataframe\">\n",
       "  <thead>\n",
       "    <tr style=\"text-align: right;\">\n",
       "      <th></th>\n",
       "      <th>alpha_ec_0</th>\n",
       "      <th>alpha_ec_1</th>\n",
       "      <th>alpha_ec_2</th>\n",
       "      <th>alpha_ec_3</th>\n",
       "      <th>alpha_ec_4</th>\n",
       "      <th>alpha_ec_5</th>\n",
       "      <th>alpha_ec_6</th>\n",
       "      <th>alpha_ec_7</th>\n",
       "      <th>alpha_ec_8</th>\n",
       "      <th>alpha_ec_9</th>\n",
       "      <th>...</th>\n",
       "      <th>ratio_theta_38</th>\n",
       "      <th>ratio_theta_39</th>\n",
       "      <th>ratio_theta_40</th>\n",
       "      <th>ratio_theta_41</th>\n",
       "      <th>ratio_theta_42</th>\n",
       "      <th>ratio_theta_43</th>\n",
       "      <th>ratio_theta_44</th>\n",
       "      <th>ratio_theta_45</th>\n",
       "      <th>ratio_theta_46</th>\n",
       "      <th>ratio_theta_47</th>\n",
       "    </tr>\n",
       "  </thead>\n",
       "  <tbody>\n",
       "    <tr>\n",
       "      <th>0</th>\n",
       "      <td>0.111840</td>\n",
       "      <td>0.123870</td>\n",
       "      <td>0.128580</td>\n",
       "      <td>0.113240</td>\n",
       "      <td>0.105710</td>\n",
       "      <td>0.106900</td>\n",
       "      <td>0.107560</td>\n",
       "      <td>0.110640</td>\n",
       "      <td>0.108750</td>\n",
       "      <td>0.158930</td>\n",
       "      <td>...</td>\n",
       "      <td>0.57161</td>\n",
       "      <td>0.73870</td>\n",
       "      <td>0.58709</td>\n",
       "      <td>0.55198</td>\n",
       "      <td>0.54811</td>\n",
       "      <td>0.57869</td>\n",
       "      <td>0.59345</td>\n",
       "      <td>0.60436</td>\n",
       "      <td>0.56294</td>\n",
       "      <td>1.01440</td>\n",
       "    </tr>\n",
       "    <tr>\n",
       "      <th>1</th>\n",
       "      <td>0.298340</td>\n",
       "      <td>0.268810</td>\n",
       "      <td>0.262390</td>\n",
       "      <td>0.380090</td>\n",
       "      <td>0.343580</td>\n",
       "      <td>0.285000</td>\n",
       "      <td>0.247910</td>\n",
       "      <td>0.250330</td>\n",
       "      <td>0.260470</td>\n",
       "      <td>0.260160</td>\n",
       "      <td>...</td>\n",
       "      <td>0.35142</td>\n",
       "      <td>0.32788</td>\n",
       "      <td>0.43164</td>\n",
       "      <td>0.49603</td>\n",
       "      <td>0.40680</td>\n",
       "      <td>0.31283</td>\n",
       "      <td>0.66352</td>\n",
       "      <td>0.58386</td>\n",
       "      <td>0.46658</td>\n",
       "      <td>0.74867</td>\n",
       "    </tr>\n",
       "    <tr>\n",
       "      <th>2</th>\n",
       "      <td>0.369120</td>\n",
       "      <td>0.395870</td>\n",
       "      <td>0.389990</td>\n",
       "      <td>0.257720</td>\n",
       "      <td>0.405540</td>\n",
       "      <td>0.441990</td>\n",
       "      <td>0.440040</td>\n",
       "      <td>0.399470</td>\n",
       "      <td>0.315460</td>\n",
       "      <td>0.283480</td>\n",
       "      <td>...</td>\n",
       "      <td>0.61924</td>\n",
       "      <td>0.86506</td>\n",
       "      <td>1.09310</td>\n",
       "      <td>0.31759</td>\n",
       "      <td>0.36353</td>\n",
       "      <td>0.50553</td>\n",
       "      <td>0.33478</td>\n",
       "      <td>0.49383</td>\n",
       "      <td>0.62363</td>\n",
       "      <td>0.61417</td>\n",
       "    </tr>\n",
       "    <tr>\n",
       "      <th>3</th>\n",
       "      <td>0.761200</td>\n",
       "      <td>0.777260</td>\n",
       "      <td>0.770420</td>\n",
       "      <td>0.601610</td>\n",
       "      <td>0.701830</td>\n",
       "      <td>0.727250</td>\n",
       "      <td>0.762450</td>\n",
       "      <td>0.789040</td>\n",
       "      <td>0.729840</td>\n",
       "      <td>0.522360</td>\n",
       "      <td>...</td>\n",
       "      <td>0.23456</td>\n",
       "      <td>0.25090</td>\n",
       "      <td>0.43196</td>\n",
       "      <td>0.71301</td>\n",
       "      <td>0.53340</td>\n",
       "      <td>0.28528</td>\n",
       "      <td>0.68135</td>\n",
       "      <td>0.66315</td>\n",
       "      <td>0.25250</td>\n",
       "      <td>0.85448</td>\n",
       "    </tr>\n",
       "    <tr>\n",
       "      <th>4</th>\n",
       "      <td>0.167700</td>\n",
       "      <td>0.151460</td>\n",
       "      <td>0.147140</td>\n",
       "      <td>0.157280</td>\n",
       "      <td>0.149650</td>\n",
       "      <td>0.141540</td>\n",
       "      <td>0.132280</td>\n",
       "      <td>0.127600</td>\n",
       "      <td>0.143510</td>\n",
       "      <td>0.172520</td>\n",
       "      <td>...</td>\n",
       "      <td>1.82160</td>\n",
       "      <td>1.73190</td>\n",
       "      <td>1.24420</td>\n",
       "      <td>2.76220</td>\n",
       "      <td>3.00930</td>\n",
       "      <td>2.43520</td>\n",
       "      <td>2.53070</td>\n",
       "      <td>2.58470</td>\n",
       "      <td>2.00770</td>\n",
       "      <td>2.29460</td>\n",
       "    </tr>\n",
       "    <tr>\n",
       "      <th>...</th>\n",
       "      <td>...</td>\n",
       "      <td>...</td>\n",
       "      <td>...</td>\n",
       "      <td>...</td>\n",
       "      <td>...</td>\n",
       "      <td>...</td>\n",
       "      <td>...</td>\n",
       "      <td>...</td>\n",
       "      <td>...</td>\n",
       "      <td>...</td>\n",
       "      <td>...</td>\n",
       "      <td>...</td>\n",
       "      <td>...</td>\n",
       "      <td>...</td>\n",
       "      <td>...</td>\n",
       "      <td>...</td>\n",
       "      <td>...</td>\n",
       "      <td>...</td>\n",
       "      <td>...</td>\n",
       "      <td>...</td>\n",
       "      <td>...</td>\n",
       "    </tr>\n",
       "    <tr>\n",
       "      <th>175</th>\n",
       "      <td>0.079822</td>\n",
       "      <td>0.081258</td>\n",
       "      <td>0.079273</td>\n",
       "      <td>0.083723</td>\n",
       "      <td>0.069784</td>\n",
       "      <td>0.063498</td>\n",
       "      <td>0.061792</td>\n",
       "      <td>0.059784</td>\n",
       "      <td>0.066457</td>\n",
       "      <td>0.077352</td>\n",
       "      <td>...</td>\n",
       "      <td>1.31050</td>\n",
       "      <td>1.16220</td>\n",
       "      <td>0.95190</td>\n",
       "      <td>2.32520</td>\n",
       "      <td>1.87490</td>\n",
       "      <td>1.74620</td>\n",
       "      <td>2.72400</td>\n",
       "      <td>2.71860</td>\n",
       "      <td>2.82880</td>\n",
       "      <td>1.23630</td>\n",
       "    </tr>\n",
       "    <tr>\n",
       "      <th>176</th>\n",
       "      <td>0.346500</td>\n",
       "      <td>0.362790</td>\n",
       "      <td>0.343660</td>\n",
       "      <td>0.277240</td>\n",
       "      <td>0.316030</td>\n",
       "      <td>0.379750</td>\n",
       "      <td>0.420140</td>\n",
       "      <td>0.452390</td>\n",
       "      <td>0.421380</td>\n",
       "      <td>0.250020</td>\n",
       "      <td>...</td>\n",
       "      <td>0.69648</td>\n",
       "      <td>0.67680</td>\n",
       "      <td>0.82459</td>\n",
       "      <td>0.37865</td>\n",
       "      <td>0.45749</td>\n",
       "      <td>0.61751</td>\n",
       "      <td>0.35155</td>\n",
       "      <td>0.48109</td>\n",
       "      <td>0.65537</td>\n",
       "      <td>0.64262</td>\n",
       "    </tr>\n",
       "    <tr>\n",
       "      <th>177</th>\n",
       "      <td>0.159210</td>\n",
       "      <td>0.157820</td>\n",
       "      <td>0.169680</td>\n",
       "      <td>0.178980</td>\n",
       "      <td>0.140980</td>\n",
       "      <td>0.132490</td>\n",
       "      <td>0.126600</td>\n",
       "      <td>0.130490</td>\n",
       "      <td>0.149720</td>\n",
       "      <td>0.222240</td>\n",
       "      <td>...</td>\n",
       "      <td>1.04600</td>\n",
       "      <td>0.85727</td>\n",
       "      <td>0.64390</td>\n",
       "      <td>0.87481</td>\n",
       "      <td>1.09470</td>\n",
       "      <td>0.99918</td>\n",
       "      <td>0.65529</td>\n",
       "      <td>0.63907</td>\n",
       "      <td>0.62307</td>\n",
       "      <td>1.07070</td>\n",
       "    </tr>\n",
       "    <tr>\n",
       "      <th>178</th>\n",
       "      <td>0.941110</td>\n",
       "      <td>0.952930</td>\n",
       "      <td>0.950500</td>\n",
       "      <td>0.726600</td>\n",
       "      <td>0.766260</td>\n",
       "      <td>0.655290</td>\n",
       "      <td>0.636660</td>\n",
       "      <td>0.645460</td>\n",
       "      <td>0.763470</td>\n",
       "      <td>0.841900</td>\n",
       "      <td>...</td>\n",
       "      <td>1.14790</td>\n",
       "      <td>0.94833</td>\n",
       "      <td>0.59572</td>\n",
       "      <td>0.80736</td>\n",
       "      <td>0.71848</td>\n",
       "      <td>0.96166</td>\n",
       "      <td>0.98636</td>\n",
       "      <td>0.99212</td>\n",
       "      <td>0.97502</td>\n",
       "      <td>0.97734</td>\n",
       "    </tr>\n",
       "    <tr>\n",
       "      <th>179</th>\n",
       "      <td>0.253970</td>\n",
       "      <td>0.243400</td>\n",
       "      <td>0.267740</td>\n",
       "      <td>0.277010</td>\n",
       "      <td>0.176170</td>\n",
       "      <td>0.135640</td>\n",
       "      <td>0.134080</td>\n",
       "      <td>0.144690</td>\n",
       "      <td>0.197210</td>\n",
       "      <td>0.269390</td>\n",
       "      <td>...</td>\n",
       "      <td>0.74043</td>\n",
       "      <td>0.74430</td>\n",
       "      <td>0.81251</td>\n",
       "      <td>0.68800</td>\n",
       "      <td>0.93969</td>\n",
       "      <td>0.74752</td>\n",
       "      <td>0.78435</td>\n",
       "      <td>0.83146</td>\n",
       "      <td>0.76753</td>\n",
       "      <td>0.81081</td>\n",
       "    </tr>\n",
       "  </tbody>\n",
       "</table>\n",
       "<p>180 rows × 432 columns</p>\n",
       "</div>"
      ],
      "text/plain": [
       "     alpha_ec_0  alpha_ec_1  alpha_ec_2  alpha_ec_3  alpha_ec_4  alpha_ec_5  \\\n",
       "0      0.111840    0.123870    0.128580    0.113240    0.105710    0.106900   \n",
       "1      0.298340    0.268810    0.262390    0.380090    0.343580    0.285000   \n",
       "2      0.369120    0.395870    0.389990    0.257720    0.405540    0.441990   \n",
       "3      0.761200    0.777260    0.770420    0.601610    0.701830    0.727250   \n",
       "4      0.167700    0.151460    0.147140    0.157280    0.149650    0.141540   \n",
       "..          ...         ...         ...         ...         ...         ...   \n",
       "175    0.079822    0.081258    0.079273    0.083723    0.069784    0.063498   \n",
       "176    0.346500    0.362790    0.343660    0.277240    0.316030    0.379750   \n",
       "177    0.159210    0.157820    0.169680    0.178980    0.140980    0.132490   \n",
       "178    0.941110    0.952930    0.950500    0.726600    0.766260    0.655290   \n",
       "179    0.253970    0.243400    0.267740    0.277010    0.176170    0.135640   \n",
       "\n",
       "     alpha_ec_6  alpha_ec_7  alpha_ec_8  alpha_ec_9  ...  ratio_theta_38  \\\n",
       "0      0.107560    0.110640    0.108750    0.158930  ...         0.57161   \n",
       "1      0.247910    0.250330    0.260470    0.260160  ...         0.35142   \n",
       "2      0.440040    0.399470    0.315460    0.283480  ...         0.61924   \n",
       "3      0.762450    0.789040    0.729840    0.522360  ...         0.23456   \n",
       "4      0.132280    0.127600    0.143510    0.172520  ...         1.82160   \n",
       "..          ...         ...         ...         ...  ...             ...   \n",
       "175    0.061792    0.059784    0.066457    0.077352  ...         1.31050   \n",
       "176    0.420140    0.452390    0.421380    0.250020  ...         0.69648   \n",
       "177    0.126600    0.130490    0.149720    0.222240  ...         1.04600   \n",
       "178    0.636660    0.645460    0.763470    0.841900  ...         1.14790   \n",
       "179    0.134080    0.144690    0.197210    0.269390  ...         0.74043   \n",
       "\n",
       "     ratio_theta_39  ratio_theta_40  ratio_theta_41  ratio_theta_42  \\\n",
       "0           0.73870         0.58709         0.55198         0.54811   \n",
       "1           0.32788         0.43164         0.49603         0.40680   \n",
       "2           0.86506         1.09310         0.31759         0.36353   \n",
       "3           0.25090         0.43196         0.71301         0.53340   \n",
       "4           1.73190         1.24420         2.76220         3.00930   \n",
       "..              ...             ...             ...             ...   \n",
       "175         1.16220         0.95190         2.32520         1.87490   \n",
       "176         0.67680         0.82459         0.37865         0.45749   \n",
       "177         0.85727         0.64390         0.87481         1.09470   \n",
       "178         0.94833         0.59572         0.80736         0.71848   \n",
       "179         0.74430         0.81251         0.68800         0.93969   \n",
       "\n",
       "     ratio_theta_43  ratio_theta_44  ratio_theta_45  ratio_theta_46  \\\n",
       "0           0.57869         0.59345         0.60436         0.56294   \n",
       "1           0.31283         0.66352         0.58386         0.46658   \n",
       "2           0.50553         0.33478         0.49383         0.62363   \n",
       "3           0.28528         0.68135         0.66315         0.25250   \n",
       "4           2.43520         2.53070         2.58470         2.00770   \n",
       "..              ...             ...             ...             ...   \n",
       "175         1.74620         2.72400         2.71860         2.82880   \n",
       "176         0.61751         0.35155         0.48109         0.65537   \n",
       "177         0.99918         0.65529         0.63907         0.62307   \n",
       "178         0.96166         0.98636         0.99212         0.97502   \n",
       "179         0.74752         0.78435         0.83146         0.76753   \n",
       "\n",
       "     ratio_theta_47  \n",
       "0           1.01440  \n",
       "1           0.74867  \n",
       "2           0.61417  \n",
       "3           0.85448  \n",
       "4           2.29460  \n",
       "..              ...  \n",
       "175         1.23630  \n",
       "176         0.64262  \n",
       "177         1.07070  \n",
       "178         0.97734  \n",
       "179         0.81081  \n",
       "\n",
       "[180 rows x 432 columns]"
      ]
     },
     "execution_count": 4,
     "metadata": {},
     "output_type": "execute_result"
    }
   ],
   "source": [
    "features_df = pd.DataFrame(data=X, columns=feature_names)\n",
    "features_df"
   ]
  },
  {
   "cell_type": "code",
   "execution_count": 5,
   "metadata": {},
   "outputs": [],
   "source": [
    "from sklearn.model_selection import train_test_split\n",
    "#Now using the same model, compare without performing dimenstionality reduction\n",
    "X_train, X_test, y_train, y_test = train_test_split(\n",
    "     X, y, test_size=0.2, random_state=42)"
   ]
  },
  {
   "cell_type": "code",
   "execution_count": 6,
   "metadata": {},
   "outputs": [
    {
     "data": {
      "text/plain": [
       "RandomForestRegressor(max_depth=100, random_state=1)"
      ]
     },
     "execution_count": 6,
     "metadata": {},
     "output_type": "execute_result"
    }
   ],
   "source": [
    "#Seeing that PCA made no difference, we will try to seek the importance of the features using a tree regressor.\n",
    "from sklearn.ensemble import RandomForestRegressor\n",
    "tree = RandomForestRegressor(random_state=1, max_depth=100)\n",
    "tree.fit(X,y)"
   ]
  },
  {
   "cell_type": "code",
   "execution_count": 7,
   "metadata": {},
   "outputs": [
    {
     "data": {
      "image/png": "[encoded data removed]",
      "text/plain": [
       "<Figure size 432x288 with 1 Axes>"
      ]
     },
     "metadata": {
      "needs_background": "light"
     },
     "output_type": "display_data"
    }
   ],
   "source": [
    "#Determine feature importance using the tree regressor\n",
    "features = features_df.columns\n",
    "importances = tree.feature_importances_\n",
    "indices = np.argsort(importances)[-20:]  # top 20 features (others are not as effective as they can be)\n",
    "plt.title('Feature Importances')\n",
    "plt.barh(range(len(indices)), importances[indices], color='b', align='center')\n",
    "plt.yticks(range(len(indices)), [features[i] for i in indices])\n",
    "plt.xlabel('Relative Importance')\n",
    "plt.show()\n",
    "#After narrowing down from 432 features, we clearly see that a lot of features have little to no effect on the\n",
    "#model performance, hence the plot below determines well which features should be kept and which should be dropped"
   ]
  },
  {
   "cell_type": "code",
   "execution_count": 8,
   "metadata": {},
   "outputs": [
    {
     "data": {
      "text/plain": [
       "RandomForestClassifier(max_depth=100, random_state=42)"
      ]
     },
     "execution_count": 8,
     "metadata": {},
     "output_type": "execute_result"
    }
   ],
   "source": [
    "from sklearn.ensemble import RandomForestClassifier\n",
    "clf = RandomForestClassifier(max_depth=100, random_state=42)\n",
    "clf.fit(X, y)"
   ]
  },
  {
   "cell_type": "code",
   "execution_count": 9,
   "metadata": {},
   "outputs": [
    {
     "data": {
      "image/png": "[encoded data removed]",
      "text/plain": [
       "<Figure size 432x288 with 1 Axes>"
      ]
     },
     "metadata": {
      "needs_background": "light"
     },
     "output_type": "display_data"
    }
   ],
   "source": [
    "#Determine feature importance using the tree regressor\n",
    "features = features_df.columns\n",
    "importances = clf.feature_importances_\n",
    "indices = np.argsort(importances)[-20:]  # top 20 features (others are not as effective as they can be)\n",
    "plt.title('Feature Importances')\n",
    "plt.barh(range(len(indices)), importances[indices], color='b', align='center')\n",
    "plt.yticks(range(len(indices)), [features[i] for i in indices])\n",
    "plt.xlabel('Relative Importance')\n",
    "plt.show()\n",
    "#After narrowing down from 432 features, we clearly see that a lot of features have little to no effect on the\n",
    "#model performance, hence the plot below determines well which features should be kept and which should be dropped"
   ]
  },
  {
   "cell_type": "code",
   "execution_count": 10,
   "metadata": {},
   "outputs": [
    {
     "data": {
      "text/plain": [
       "DecisionTreeClassifier(random_state=42)"
      ]
     },
     "execution_count": 10,
     "metadata": {},
     "output_type": "execute_result"
    }
   ],
   "source": [
    "from sklearn.tree import DecisionTreeClassifier\n",
    "dt = DecisionTreeClassifier(random_state=42)\n",
    "dt.fit(X, y)"
   ]
  },
  {
   "cell_type": "code",
   "execution_count": 11,
   "metadata": {
    "scrolled": true
   },
   "outputs": [
    {
     "data": {
      "image/png": "[encoded data removed]",
      "text/plain": [
       "<Figure size 432x288 with 1 Axes>"
      ]
     },
     "metadata": {
      "needs_background": "light"
     },
     "output_type": "display_data"
    }
   ],
   "source": [
    "#Determine feature importance using the tree regressor\n",
    "features = features_df.columns\n",
    "importances = dt.feature_importances_\n",
    "indices = np.argsort(importances)[-20:]  # top 20 features (others are not as effective as they can be)\n",
    "plt.title('Feature Importances')\n",
    "plt.barh(range(len(indices)), importances[indices], color='b', align='center')\n",
    "plt.yticks(range(len(indices)), [features[i] for i in indices])\n",
    "plt.xlabel('Relative Importance')\n",
    "plt.show()\n",
    "#After narrowing down from 432 features, we clearly see that a lot of features have little to no effect on the\n",
    "#model performance, hence the plot below determines well which features should be kept and which should be dropped"
   ]
  },
  {
   "cell_type": "code",
   "execution_count": 14,
   "metadata": {},
   "outputs": [],
   "source": [
    "#Pick features using select from model library in scikit_learn\n",
    "from sklearn.linear_model import LogisticRegression\n",
    "from sklearn.feature_selection import SelectFromModel\n",
    "from sklearn.svm import SVC\n",
    "# lr = LogisticRegression().fit(X_train, y_train)\n",
    "main_model = SVC(kernel = \"linear\").fit(X, y)\n",
    "feature = SelectFromModel(main_model)\n",
    "Fit = feature.fit_transform(X, y)\n",
    "X_train_1, X_test_1, y_train_1, y_test_1 = train_test_split(\n",
    "    Fit, y, test_size=0.2, random_state=42)"
   ]
  },
  {
   "cell_type": "code",
   "execution_count": 15,
   "metadata": {},
   "outputs": [
    {
     "name": "stdout",
     "output_type": "stream",
     "text": [
      "91.66666666666666%\n"
     ]
    }
   ],
   "source": [
    "#Fit & Train model on new feature dims\n",
    "svc = SVC(kernel = \"linear\").fit(X_train_1,y_train_1)\n",
    "preds_1 = svc.predict(X_test_1)\n",
    "true_class = 0\n",
    "for i,j in zip(preds_1,y_test_1):\n",
    "    if(i == j):\n",
    "        true_class+=1\n",
    "print(f\"{true_class/len(preds_1)*100}%\")\n",
    "#We can notice a better performance than the PCA and the normal version of the code !"
   ]
  },
  {
   "cell_type": "code",
   "execution_count": null,
   "metadata": {},
   "outputs": [],
   "source": [
    "from sklearn.feature_selection import RFECV\n",
    "rfe_lr = LogisticRegression(solver='lbfgs')\n",
    "rfe_svc.fit(X_train, y_train)\n",
    "rfe = RFECV(rfe_lr, cv = 5)\n",
    "rfe.fit(X_train, y_train)\n",
    "preds = rfe_lr.predict(X_test)\n",
    "true_class = 0\n",
    "for i,j in zip(preds,y_test):\n",
    "    if(i == j):\n",
    "        true_class+=1\n",
    "print(f\"{true_class/len(preds)*100}%\")\n",
    "#We can notice a better performance than the PCA and the normal version of the code !"
   ]
  },
  {
   "cell_type": "code",
   "execution_count": null,
   "metadata": {},
   "outputs": [],
   "source": [
    "from mlxtend.feature_selection import SequentialFeatureSelector\n",
    "svc_2 = SVC(kernel = \"linear\").fit(X,y)\n",
    "sfs = SequentialFeatureSelector(svc_2,k_features='best',forward = False ,n_jobs=-1)\n",
    "sfs.fit(X,y)"
   ]
  }
 ],
 "metadata": {
  "kernelspec": {
   "display_name": "Python 3",
   "language": "python",
   "name": "python3"
  },
  "language_info": {
   "codemirror_mode": {
    "name": "ipython",
    "version": 3
   },
   "file_extension": ".py",
   "mimetype": "text/x-python",
   "name": "python",
   "nbconvert_exporter": "python",
   "pygments_lexer": "ipython3",
   "version": "3.8.6"
  }
 },
 "nbformat": 4,
 "nbformat_minor": 4
}
